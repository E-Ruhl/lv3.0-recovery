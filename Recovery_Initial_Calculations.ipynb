{
 "cells": [
  {
   "cell_type": "markdown",
   "metadata": {},
   "source": [
    "# Previous recovery system information\n",
    "\n",
    "## Drogue 'chute\n",
    "\n",
    "## Main 'chute\n",
    "\n",
    "Dimensions, total outer: 216.54\" x 218.54\" (reference Main.dxf)\n",
    "\n",
    "Dimensions, inner cross: 64.01\"\n",
    "\n",
    "Corner line length, skirt to confluence: 205\"\n",
    "\n",
    "Center lines lengthen 3%"
   ]
  },
  {
   "cell_type": "markdown",
   "metadata": {},
   "source": [
    "## Questions/Concerns\n",
    "\n",
    "WATCH OUT FOR UNIT CONVERSIONS!!! Parachute parameters are given in ENGLISH, but the majority of this document will be in METRIC"
   ]
  },
  {
   "cell_type": "markdown",
   "metadata": {},
   "source": [
    "# Initial calculations\n",
    "\n",
    "## Current information and requirements\n",
    "\n",
    "Assumptions$^{[1]}$:\n",
    "    1. Linear motion\n",
    "    2. The deployment system is inelastic\n",
    "    3. The partially unfurled parachute is in tension during deployment\n",
    "    4. The deployment rate is much less than the vehicle velocity\n",
    "    \n",
    "The parachute depends on two main factors$^{[2]}$:\n",
    "    1. The weight of the payload and parachute\n",
    "    2. The speed upon impact when returning\n",
    "    \n",
    "    Canopy first deployment\n"
   ]
  },
  {
   "cell_type": "code",
   "execution_count": 53,
   "metadata": {
    "collapsed": true
   },
   "outputs": [],
   "source": [
    "#General\n",
    "########################################\n",
    "\n",
    "#gravity (m/sec^2)\n",
    "g = 9.81\n",
    "\n",
    "#air density (kg/m^3)\n",
    "p = 1.225"
   ]
  },
  {
   "cell_type": "code",
   "execution_count": 54,
   "metadata": {
    "collapsed": false
   },
   "outputs": [
    {
     "name": "stdout",
     "output_type": "stream",
     "text": [
      "w_tot2 (N) 343.17\n"
     ]
    }
   ],
   "source": [
    "#LV2 information\n",
    "#######################################\n",
    "\n",
    "#impact(terminal) velocity (m/s)\n",
    "#FILL IN WITH ACTUAL VALUE\n",
    "v_f2 = 25\n",
    "\n",
    "#mass of parachute (kg)\n",
    "#From OpenRocket\n",
    "m_p2 = 2.118\n",
    "\n",
    "#mass of system (rocket + chute) (kg)\n",
    "#From OpenRocket\n",
    "m_tot2 = 34.982\n",
    "\n",
    "#weight of system (N)\n",
    "w_tot2 = m_tot2 * g\n",
    "print \"w_tot2 (N) %3.2f\" % w_tot2\n",
    "\n",
    "#main parachute dimensions\n",
    "#diameter, d2 = length of one cross strip (m)\n",
    "#width of cross strip, w2 (m)\n",
    "#almost the same w/d ratio as AIAA source [4] (0.263 compared to 0.260)\n",
    "#line length, l2 (m)\n",
    "d2 = 5.38\n",
    "w2 = 1.40\n",
    "l2 = 5.03"
   ]
  },
  {
   "cell_type": "code",
   "execution_count": 55,
   "metadata": {
    "collapsed": false
   },
   "outputs": [
    {
     "name": "stdout",
     "output_type": "stream",
     "text": [
      "A2 (m) 13.10\n",
      "D2 (N) 343.17\n",
      "Cd2 0.07\n",
      "Cd_or 0.59\n",
      "D_or (N) 2959.66\n"
     ]
    }
   ],
   "source": [
    "#LV2 drag calculations\n",
    "#######################################\n",
    "\n",
    "#area of parachute from LV2 system\n",
    "A2 = ((d2*w2)*2)-(w2**2)\n",
    "print \"A2 (m) %3.2f\" % A2\n",
    "\n",
    "#If we say at terminal velocity, accel = 0, \n",
    "#therefore drag force (D2) = weight of system (w_tot2)\n",
    "#because sum(forces) = ma = 0, then\n",
    "D2 = w_tot2\n",
    "print \"D2 (N) %3.2f\" % D2\n",
    "\n",
    "#calculated drag coefficient (Cd2), using D2\n",
    "Cd2 = (2*D2)/(p*A2*v_f2**2)\n",
    "print \"Cd2 %3.2f\" % Cd2\n",
    "\n",
    "#drag coefficient (Cd_or), from OpenRocket LV2.3\n",
    "#compare to AIAA source [4], 0.60\n",
    "#compare to calculated from LV2 data, Cd2\n",
    "Cd_or = 0.59\n",
    "print \"Cd_or %3.2f\" % Cd_or\n",
    "\n",
    "#calculated drag (D), from OpenRocket LV2.3\n",
    "D_or = (Cd_or*p*A2*v_f2**2)/2\n",
    "print \"D_or (N) %3.2f\" % D_or"
   ]
  },
  {
   "cell_type": "code",
   "execution_count": 94,
   "metadata": {
    "collapsed": false
   },
   "outputs": [
    {
     "name": "stdout",
     "output_type": "stream",
     "text": [
      "Index([u'# [0]SEQN', u' [1]Timestamp', u' [2]VCC', u' [3]Gyro_X',\n",
      "       u' [4]Gyro_Y', u' [5]Gyro_Z', u' [6]Acc_X', u' [7]Acc_Y', u' [8]Acc_Z',\n",
      "       u' [9]Magn_X', u' [10]Magn_Y', u' [11]Magn_Z', u' [12]Temp',\n",
      "       u' [13]Aux_ADC'],\n",
      "      dtype='object')\n",
      "Index([u'#version', u'serial', u'flight', u'call', u'time', u'clock', u'rssi',\n",
      "       u'lqi', u'state', u'state_name', u'acceleration', u'pressure',\n",
      "       u'altitude', u'height', u'accel_speed', u'baro_speed', u'temperature',\n",
      "       u'drogue_voltage', u'main_voltage', u'battery_voltage', u'connected',\n",
      "       u'locked', u'nsat', u'latitude', u'longitude', u'altitude.1', u'year',\n",
      "       u'month', u'day', u'hour', u'minute', u'second', u'pad_dist',\n",
      "       u'pad_range', u'pad_az', u'pad_el', u'pdop', u'hdop', u'vdop', u'sat01',\n",
      "       u'sat02', u'sat03', u'sat04', u'sat05', u'sat06', u'sat07', u'sat08',\n",
      "       u'sat09', u'sat10', u'sat11', u'sat12', u'sat13', u'sat14', u'sat15',\n",
      "       u'sat16', u'sat17', u'sat18', u'sat19', u'sat20', u'sat21', u'sat22',\n",
      "       u'sat23', u'sat24', u'sat25', u'sat26', u'sat27', u'sat28', u'sat29',\n",
      "       u'sat30', u'sat31', u'sat32'],\n",
      "      dtype='object')\n"
     ]
    },
    {
     "data": {
      "image/png": "[encoded data removed]",
      "text/plain": [
       "<matplotlib.figure.Figure at 0xc6352d0>"
      ]
     },
     "metadata": {},
     "output_type": "display_data"
    },
    {
     "data": {
      "text/plain": [
       "\"\\n#drogue analysis\\n\\n#plot of only the duration of impulse\\nplt.plot(time[len(time)-9808:3377], acceleration[len(acceleration)-9808:3377],'r-')\\nplt.ylabel('acceleration')\\nplt.xlabel('time')\\nplt.show()\\n\\n#calculating the impulse using same parameters above\\nvelocity = []\\nfor i in range(len(acceleration)-9808,3377):\\n    # use simpsons rule on the samples to integrate\\n    velocity.append(simps(acceleration[:i], time[:i]))\\nplt.plot(time[len(time)-9808:3377], velocity)\\nplt.show()\\n\""
      ]
     },
     "execution_count": 94,
     "metadata": {},
     "output_type": "execute_result"
    }
   ],
   "source": [
    "#Analyzing LV2 telemetry and IMU data\n",
    "##From git, Launch 12\n",
    "#######################################\n",
    "\n",
    "import numpy as np\n",
    "import matplotlib.pyplot as plt\n",
    "import pandas as pd\n",
    "from scipy.integrate import simps\n",
    "%matplotlib inline\n",
    "\n",
    "# Graphing helper function\n",
    "def setup_graph(title='',x_label='', y_label='', fig_size=None):\n",
    "    fig = plt.figure()\n",
    "    if fig_size != None:\n",
    "        fig.set_size_inches(fig_size[0],\n",
    "                            fig_size[1])\n",
    "    ax = fig.add_subplot(111)\n",
    "    ax.set_title(title)\n",
    "    ax.set_xlabel(x_label)\n",
    "    ax.set_ylabel(y_label)\n",
    "\n",
    "########################################\n",
    "\n",
    "#This data is from the IMU and is the \"raw\" data\n",
    "##i.e. NOT from the TeleMetrum\n",
    "data = pd.read_csv('IMU_data.csv')\n",
    "print data.keys()\n",
    "\n",
    "time = data[' [1]Timestamp'].tolist()\n",
    "\n",
    "time = np.array(time)\n",
    "\n",
    "# umblicial disconnect event\n",
    "t_0 = 117853569585227\n",
    "\n",
    "# element wise subtraction\n",
    "time = np.subtract(time, t_0)\n",
    "\n",
    "# convert from ns to s\n",
    "time = np.divide(time, 1e9)\n",
    "\n",
    "acceleration = data[' [6]Acc_X'].tolist()\n",
    "acceleration = np.array(acceleration)\n",
    "acceleration = np.subtract(acceleration,g)\n",
    "\n",
    "########################################\n",
    "#This data is from the Telemetry data\n",
    "data2 = pd.read_csv('Telemetry_data.csv')\n",
    "print data2.keys()\n",
    "\n",
    "time2 = data2['time'].tolist()\n",
    "time2 = np.array(time2)\n",
    "acceleration2 = data2['acceleration'].tolist()\n",
    "acceleration2 = np.array(acceleration2)\n",
    "\n",
    "setup_graph('Acc vs. Time', 'Time(s)', 'Acc (m/s^2)', (9,6.5))\n",
    "plt.plot(time,acceleration)\n",
    "plt.plot(time2, acceleration2)\n",
    "plt.legend(['first','second'])\n",
    "plt.show()\n",
    "\n",
    "\"\"\"\n",
    "#drogue analysis\n",
    "\n",
    "#plot of only the duration of impulse\n",
    "plt.plot(time[len(time)-9808:3377], acceleration[len(acceleration)-9808:3377],'r-')\n",
    "plt.ylabel('acceleration')\n",
    "plt.xlabel('time')\n",
    "plt.show()\n",
    "\n",
    "#calculating the impulse using same parameters above\n",
    "velocity = []\n",
    "for i in range(len(acceleration)-9808,3377):\n",
    "    # use simpsons rule on the samples to integrate\n",
    "    velocity.append(simps(acceleration[:i], time[:i]))\n",
    "plt.plot(time[len(time)-9808:3377], velocity)\n",
    "plt.show()\n",
    "\"\"\""
   ]
  },
  {
   "cell_type": "code",
   "execution_count": 96,
   "metadata": {
    "collapsed": false
   },
   "outputs": [
    {
     "data": {
      "image/png": "[encoded data removed]",
      "text/plain": [
       "<matplotlib.figure.Figure at 0xa9c9e90>"
      ]
     },
     "metadata": {},
     "output_type": "display_data"
    }
   ],
   "source": [
    "###Filter out noise w/ scipy\n",
    "from scipy.signal import savgol_filter\n",
    "accel_filtered = savgol_filter(acceleration, 201, 2)\n",
    "\n",
    "velocity = []\n",
    "for i in range(len(accel_filtered)):\n",
    "    if(i > 0):\n",
    "        # use simpsons rule on the samples to integrate\n",
    "        velocity.append(simps(accel_filtered[:i], time[:i]))\n",
    "velocity = np.array(velocity)\n",
    "\n",
    "plt.plot(time[1:], velocity)\n",
    "plt.show()"
   ]
  },
  {
   "cell_type": "markdown",
   "metadata": {},
   "source": [
    "## Parachute calculations\n",
    "From source [2]"
   ]
  },
  {
   "cell_type": "code",
   "execution_count": 73,
   "metadata": {
    "collapsed": false
   },
   "outputs": [],
   "source": [
    "#Shock force\n",
    "#Calculate by determining "
   ]
  },
  {
   "cell_type": "markdown",
   "metadata": {},
   "source": [
    "# Works Cited\n",
    "\n",
    "[1] NASA TN D-5619\n",
    "\n",
    "[2] http://www.pcprg.com/rocketre.htm\n",
    "\n",
    "[3] http://www.dtic.mil/dtic/tr/fulltext/u2/731023.pdf\n",
    "\n",
    "[4] AIAA-99-1711"
   ]
  },
  {
   "cell_type": "code",
   "execution_count": null,
   "metadata": {
    "collapsed": true
   },
   "outputs": [],
   "source": []
  }
 ],
 "metadata": {
  "kernelspec": {
   "display_name": "Python 2",
   "language": "python",
   "name": "python2"
  },
  "language_info": {
   "codemirror_mode": {
    "name": "ipython",
    "version": 2
   },
   "file_extension": ".py",
   "mimetype": "text/x-python",
   "name": "python",
   "nbconvert_exporter": "python",
   "pygments_lexer": "ipython2",
   "version": "2.7.11"
  }
 },
 "nbformat": 4,
 "nbformat_minor": 0
}
